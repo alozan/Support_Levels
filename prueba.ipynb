{
 "cells": [
  {
   "cell_type": "code",
   "execution_count": null,
   "metadata": {},
   "outputs": [],
   "source": [
    "import yfinance as yf\n",
    "import pandas as pd\n",
    "import pandas as pd\n",
    "import matplotlib.pyplot as plt\n",
    "import seaborn as sns\n",
    "from sklearn.linear_model import LogisticRegression\n",
    "from sklearn.model_selection import train_test_split\n",
    "from scipy.stats import skew, kurtosis\n",
    "from sklearn.metrics import roc_curve, auc\n",
    "from sklearn.datasets import load_iris\n",
    "import csv"
   ]
  },
  {
   "cell_type": "code",
   "execution_count": 1,
   "metadata": {},
   "outputs": [],
   "source": [
    "# Specify the stock symbol and the desired date range\n",
    "st = input(\"Que -accion? \")\n",
    "desde= input(\"Desde que Fecha?(A-M-D) \")\n",
    "hasta= input(\"Hasta que Fecha?(A-M-D) \")\n",
    "\n",
    "stock_symbol = 'st'\n",
    "start_date = desde\n",
    "end_date = hasta"
   ]
  },
  {
   "cell_type": "code",
   "execution_count": null,
   "metadata": {},
   "outputs": [],
   "source": [
    "# Retrieve the historical price data using yfinance\n",
    "stock_data = yf.download(stock_symbol, start=start_date, end=end_date)\n"
   ]
  },
  {
   "cell_type": "code",
   "execution_count": null,
   "metadata": {},
   "outputs": [],
   "source": [
    "def calculate_support_resistance(data):\n",
    "    pivot_point = (data['High'] + data['Low'] + data['Close']) / 3\n",
    "    support_l1 = (pivot_point * 2) - data['High']\n",
    "    support_l2 = pivot_point - (data['High'] - data['Low'])\n",
    "    resistance_l1 = (pivot_point * 2) - data['Low']\n",
    "    resistance_l2 = pivot_point + (data['High'] - data['Low'])\n",
    "    \n",
    "    return pivot_point, support_l1, support_l2, resistance_l1, resistance_l2\n",
    "\n",
    "pivot_point, support_l1, support_l2, resistance_l1, resistance_l2 = calculate_support_resistance(stock_data)\n"
   ]
  },
  {
   "cell_type": "code",
   "execution_count": null,
   "metadata": {},
   "outputs": [],
   "source": [
    "# Create a DataFrame to store the calculated levels\n",
    "levels_data = pd.DataFrame({'Pivot Point': pivot_point,\n",
    "                            'Support Level 1': support_l1,\n",
    "                            'Support Level 2': support_l2,\n",
    "                            'Resistance Level 1': resistance_l1,\n",
    "                            'Resistance Level 2': resistance_l2})\n"
   ]
  },
  {
   "cell_type": "code",
   "execution_count": null,
   "metadata": {},
   "outputs": [],
   "source": [
    "print(levels_data)"
   ]
  }
 ],
 "metadata": {
  "kernelspec": {
   "display_name": "Python 3",
   "language": "python",
   "name": "python3"
  },
  "language_info": {
   "codemirror_mode": {
    "name": "ipython",
    "version": 3
   },
   "file_extension": ".py",
   "mimetype": "text/x-python",
   "name": "python",
   "nbconvert_exporter": "python",
   "pygments_lexer": "ipython3",
   "version": "3.11.6"
  }
 },
 "nbformat": 4,
 "nbformat_minor": 2
}
